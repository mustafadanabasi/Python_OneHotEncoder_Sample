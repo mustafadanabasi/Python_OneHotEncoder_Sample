{
  "nbformat": 4,
  "nbformat_minor": 0,
  "metadata": {
    "colab": {
      "provenance": [],
      "authorship_tag": "ABX9TyMuNuitqtLsLVwb5V36WPMy",
      "include_colab_link": true
    },
    "kernelspec": {
      "name": "python3",
      "display_name": "Python 3"
    },
    "language_info": {
      "name": "python"
    }
  },
  "cells": [
    {
      "cell_type": "markdown",
      "metadata": {
        "id": "view-in-github",
        "colab_type": "text"
      },
      "source": [
        "<a href=\"https://colab.research.google.com/github/mustafadanabasi/Python_OneHotEncoder_Sample/blob/master/Python_OneHotEncoder.ipynb\" target=\"_parent\"><img src=\"https://colab.research.google.com/assets/colab-badge.svg\" alt=\"Open In Colab\"/></a>"
      ]
    },
    {
      "cell_type": "code",
      "execution_count": 25,
      "metadata": {
        "colab": {
          "base_uri": "https://localhost:8080/"
        },
        "id": "_Ui_9lcywyiS",
        "outputId": "9f0d161c-5be3-4855-a7c5-56955834fecf"
      },
      "outputs": [
        {
          "output_type": "stream",
          "name": "stdout",
          "text": [
            "      renk sayi\n",
            "0  kırmızı    1\n",
            "1     mavi    2\n",
            "2    yeşil    3\n",
            "3     mavi    4\n",
            "(4, 4)\n",
            "['standardscaler__sayi' 'onehotencoder__renk_kırmızı'\n",
            " 'onehotencoder__renk_mavi' 'onehotencoder__renk_yeşil']\n",
            "[array(['kırmızı', 'mavi', 'yeşil'], dtype=object)]\n"
          ]
        }
      ],
      "source": [
        "#OneHotEncoder\n",
        "#Kategorik verileri \"binary\" (0 ve 1) sütunlarına ayırır.\n",
        "#Her benzersiz kategori için ayrı bir sütun oluşturur.\n",
        "#Özellikle sıralı olmayan kategorik değişkenler için uygundur.\n",
        "\n",
        "import pandas as pd # verilere erişim sağlamak ve okumak için kullanılan kütüphane\n",
        "from sklearn.preprocessing import OneHotEncoder\n",
        "from sklearn.compose import make_column_transformer\n",
        "from sklearn.preprocessing import StandardScaler\n",
        "\n",
        "# Veri seti örneği\n",
        "data = pd.DataFrame({'renk': ['kırmızı', 'mavi', 'yeşil', 'mavi'],'sayi': ['1', '2', '3', '4']})\n",
        "\n",
        "# Veriyi dönüştür\n",
        "X = data[['renk', 'sayi']]\n",
        "print(X)\n",
        "\n",
        "# OneHotEncoder oluştur\n",
        "columns_trans = make_column_transformer((StandardScaler(),['sayi']), (OneHotEncoder(),['renk'])   )\n",
        "\n",
        "X = columns_trans.fit_transform(X)\n",
        "print(X.shape)\n",
        "\n",
        "# Yeni sütun adları\n",
        "columns = columns_trans.get_feature_names_out(['renk','sayi'])\n",
        "print(columns)\n",
        "\n",
        "encoder = columns_trans.named_transformers_['onehotencoder']\n",
        "print(encoder.categories_)\n",
        "\n"
      ]
    },
    {
      "cell_type": "code",
      "source": [],
      "metadata": {
        "id": "V7_pfPPu_q9K"
      },
      "execution_count": null,
      "outputs": []
    },
    {
      "cell_type": "code",
      "source": [],
      "metadata": {
        "id": "jDLVPfum_cdS"
      },
      "execution_count": null,
      "outputs": []
    },
    {
      "cell_type": "code",
      "source": [],
      "metadata": {
        "id": "uwsy5zB4_S-K"
      },
      "execution_count": null,
      "outputs": []
    },
    {
      "cell_type": "code",
      "source": [],
      "metadata": {
        "id": "fj_O-lGc_OfC"
      },
      "execution_count": null,
      "outputs": []
    },
    {
      "cell_type": "code",
      "source": [],
      "metadata": {
        "id": "S5C3PWy4_MZa"
      },
      "execution_count": null,
      "outputs": []
    },
    {
      "cell_type": "code",
      "source": [],
      "metadata": {
        "id": "B98buKGi_LSy"
      },
      "execution_count": null,
      "outputs": []
    },
    {
      "cell_type": "code",
      "source": [],
      "metadata": {
        "id": "QRAxAupp_EXa"
      },
      "execution_count": null,
      "outputs": []
    },
    {
      "cell_type": "code",
      "source": [],
      "metadata": {
        "id": "tHoUfL3j_BFa"
      },
      "execution_count": null,
      "outputs": []
    },
    {
      "cell_type": "code",
      "source": [],
      "metadata": {
        "id": "wiFx2xJ6-8gb"
      },
      "execution_count": null,
      "outputs": []
    },
    {
      "cell_type": "code",
      "source": [],
      "metadata": {
        "id": "gUQbfIyA-6E9"
      },
      "execution_count": null,
      "outputs": []
    },
    {
      "cell_type": "code",
      "source": [],
      "metadata": {
        "id": "giXkLbzy-2hK"
      },
      "execution_count": null,
      "outputs": []
    },
    {
      "cell_type": "code",
      "source": [],
      "metadata": {
        "id": "aKqqq_SB-yR6"
      },
      "execution_count": null,
      "outputs": []
    },
    {
      "cell_type": "code",
      "source": [],
      "metadata": {
        "id": "XqxBmhem-Y4a"
      },
      "execution_count": null,
      "outputs": []
    },
    {
      "cell_type": "code",
      "source": [],
      "metadata": {
        "id": "KkeLjYCd921r"
      },
      "execution_count": null,
      "outputs": []
    },
    {
      "cell_type": "code",
      "source": [],
      "metadata": {
        "id": "VQHj31XZ9sTx"
      },
      "execution_count": null,
      "outputs": []
    },
    {
      "cell_type": "code",
      "source": [],
      "metadata": {
        "id": "nxV1ls9a9fQK"
      },
      "execution_count": null,
      "outputs": []
    },
    {
      "cell_type": "code",
      "source": [],
      "metadata": {
        "id": "8pQjYfAQ4BKn"
      },
      "execution_count": null,
      "outputs": []
    },
    {
      "cell_type": "code",
      "source": [],
      "metadata": {
        "id": "lJSeA3Eb3_H_"
      },
      "execution_count": null,
      "outputs": []
    },
    {
      "cell_type": "code",
      "source": [],
      "metadata": {
        "id": "S0Px4DHF38q3"
      },
      "execution_count": null,
      "outputs": []
    },
    {
      "cell_type": "code",
      "source": [],
      "metadata": {
        "id": "jWGAXKba32fQ"
      },
      "execution_count": null,
      "outputs": []
    },
    {
      "cell_type": "code",
      "source": [],
      "metadata": {
        "id": "6F4F8SMr3vR3"
      },
      "execution_count": null,
      "outputs": []
    },
    {
      "cell_type": "code",
      "source": [],
      "metadata": {
        "id": "SxeXbu8L3azH"
      },
      "execution_count": null,
      "outputs": []
    },
    {
      "cell_type": "code",
      "source": [],
      "metadata": {
        "id": "9ypn6ehv0EDP"
      },
      "execution_count": null,
      "outputs": []
    },
    {
      "cell_type": "code",
      "source": [],
      "metadata": {
        "id": "z8VqfmCkzwLu"
      },
      "execution_count": null,
      "outputs": []
    },
    {
      "cell_type": "code",
      "source": [],
      "metadata": {
        "id": "WC0NUrFiziY2"
      },
      "execution_count": null,
      "outputs": []
    },
    {
      "cell_type": "code",
      "source": [],
      "metadata": {
        "id": "xzDv9wFaymbe"
      },
      "execution_count": null,
      "outputs": []
    }
  ]
}